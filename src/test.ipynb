{
 "cells": [
  {
   "cell_type": "code",
   "execution_count": 2,
   "id": "e1429a05",
   "metadata": {},
   "outputs": [],
   "source": [
    "import joblib"
   ]
  },
  {
   "cell_type": "code",
   "execution_count": null,
   "id": "5300d804",
   "metadata": {},
   "outputs": [],
   "source": []
  },
  {
   "cell_type": "code",
   "execution_count": 4,
   "id": "fbd74db2",
   "metadata": {},
   "outputs": [],
   "source": [
    "from train_cfr import Node"
   ]
  },
  {
   "cell_type": "code",
   "execution_count": 6,
   "id": "5694dbce",
   "metadata": {},
   "outputs": [],
   "source": [
    "temp = joblib.load('../averageUtils.joblib')"
   ]
  },
  {
   "cell_type": "code",
   "execution_count": 7,
   "id": "8973bfb0",
   "metadata": {},
   "outputs": [
    {
     "data": {
      "text/plain": [
       "[-inf]"
      ]
     },
     "execution_count": 7,
     "metadata": {},
     "output_type": "execute_result"
    }
   ],
   "source": [
    "temp"
   ]
  },
  {
   "cell_type": "code",
   "execution_count": 36,
   "id": "a5a0a96b",
   "metadata": {},
   "outputs": [],
   "source": [
    "s = joblib.load('../HoldemTrainingHistory.joblib')"
   ]
  },
  {
   "cell_type": "code",
   "execution_count": 40,
   "id": "3b145a70",
   "metadata": {},
   "outputs": [],
   "source": [
    "import pandas as pd"
   ]
  },
  {
   "cell_type": "code",
   "execution_count": 41,
   "id": "b80f2b67",
   "metadata": {},
   "outputs": [],
   "source": [
    "df = pd.DataFrame(s)"
   ]
  },
  {
   "cell_type": "code",
   "execution_count": 45,
   "id": "edb06a9a",
   "metadata": {},
   "outputs": [
    {
     "data": {
      "text/html": [
       "<div>\n",
       "<style scoped>\n",
       "    .dataframe tbody tr th:only-of-type {\n",
       "        vertical-align: middle;\n",
       "    }\n",
       "\n",
       "    .dataframe tbody tr th {\n",
       "        vertical-align: top;\n",
       "    }\n",
       "\n",
       "    .dataframe thead th {\n",
       "        text-align: right;\n",
       "    }\n",
       "</style>\n",
       "<table border=\"1\" class=\"dataframe\">\n",
       "  <thead>\n",
       "    <tr style=\"text-align: right;\">\n",
       "      <th></th>\n",
       "      <th>history</th>\n",
       "      <th>player_cards</th>\n",
       "      <th>opponent_cards</th>\n",
       "      <th>community_cards</th>\n",
       "      <th>pot_size</th>\n",
       "      <th>win</th>\n",
       "    </tr>\n",
       "  </thead>\n",
       "  <tbody>\n",
       "    <tr>\n",
       "      <th>0</th>\n",
       "      <td>f</td>\n",
       "      <td>[Ad, Qs]</td>\n",
       "      <td>[3h, 2h]</td>\n",
       "      <td>[5h, Js, Kd, 5c, 8s]</td>\n",
       "      <td>300.000000</td>\n",
       "      <td>-1.0</td>\n",
       "    </tr>\n",
       "    <tr>\n",
       "      <th>1</th>\n",
       "      <td>cf</td>\n",
       "      <td>[3h, 2h]</td>\n",
       "      <td>[Ad, Qs]</td>\n",
       "      <td>[5h, Js, Kd, 5c, 8s]</td>\n",
       "      <td>400.000000</td>\n",
       "      <td>1.0</td>\n",
       "    </tr>\n",
       "    <tr>\n",
       "      <th>2</th>\n",
       "      <td>ccf</td>\n",
       "      <td>[Ad, Qs]</td>\n",
       "      <td>[3h, 2h]</td>\n",
       "      <td>[5h, Js, Kd, 5c, 8s]</td>\n",
       "      <td>400.000000</td>\n",
       "      <td>-1.0</td>\n",
       "    </tr>\n",
       "    <tr>\n",
       "      <th>3</th>\n",
       "      <td>cccf</td>\n",
       "      <td>[3h, 2h]</td>\n",
       "      <td>[Ad, Qs]</td>\n",
       "      <td>[5h, Js, Kd, 5c, 8s]</td>\n",
       "      <td>400.000000</td>\n",
       "      <td>1.0</td>\n",
       "    </tr>\n",
       "    <tr>\n",
       "      <th>4</th>\n",
       "      <td>ccccf</td>\n",
       "      <td>[Ad, Qs]</td>\n",
       "      <td>[3h, 2h]</td>\n",
       "      <td>[5h, Js, Kd, 5c, 8s]</td>\n",
       "      <td>400.000000</td>\n",
       "      <td>-1.0</td>\n",
       "    </tr>\n",
       "    <tr>\n",
       "      <th>...</th>\n",
       "      <td>...</td>\n",
       "      <td>...</td>\n",
       "      <td>...</td>\n",
       "      <td>...</td>\n",
       "      <td>...</td>\n",
       "      <td>...</td>\n",
       "    </tr>\n",
       "    <tr>\n",
       "      <th>156095</th>\n",
       "      <td>bbcbbcbbccbbc</td>\n",
       "      <td>[6c, 8d]</td>\n",
       "      <td>[Jh, 5d]</td>\n",
       "      <td>[2d, Qd, 8h, 4s, 4h]</td>\n",
       "      <td>7315.957933</td>\n",
       "      <td>-1.0</td>\n",
       "    </tr>\n",
       "    <tr>\n",
       "      <th>156096</th>\n",
       "      <td>bbcbbcbbcbf</td>\n",
       "      <td>[6c, 8d]</td>\n",
       "      <td>[Jh, 5d]</td>\n",
       "      <td>[2d, Qd, 8h, 4s, 4h]</td>\n",
       "      <td>4389.574760</td>\n",
       "      <td>-1.0</td>\n",
       "    </tr>\n",
       "    <tr>\n",
       "      <th>156097</th>\n",
       "      <td>bbcbbcbbcbc</td>\n",
       "      <td>[6c, 8d]</td>\n",
       "      <td>[Jh, 5d]</td>\n",
       "      <td>[2d, Qd, 8h, 4s, 4h]</td>\n",
       "      <td>5486.968450</td>\n",
       "      <td>-1.0</td>\n",
       "    </tr>\n",
       "    <tr>\n",
       "      <th>156098</th>\n",
       "      <td>bbcbbcbbcbbf</td>\n",
       "      <td>[Jh, 5d]</td>\n",
       "      <td>[6c, 8d]</td>\n",
       "      <td>[2d, Qd, 8h, 4s, 4h]</td>\n",
       "      <td>5852.766347</td>\n",
       "      <td>1.0</td>\n",
       "    </tr>\n",
       "    <tr>\n",
       "      <th>156099</th>\n",
       "      <td>bbcbbcbbcbbc</td>\n",
       "      <td>[Jh, 5d]</td>\n",
       "      <td>[6c, 8d]</td>\n",
       "      <td>[2d, Qd, 8h, 4s, 4h]</td>\n",
       "      <td>7315.957933</td>\n",
       "      <td>-0.0</td>\n",
       "    </tr>\n",
       "  </tbody>\n",
       "</table>\n",
       "<p>156100 rows × 6 columns</p>\n",
       "</div>"
      ],
      "text/plain": [
       "              history player_cards opponent_cards       community_cards  \\\n",
       "0                   f     [Ad, Qs]       [3h, 2h]  [5h, Js, Kd, 5c, 8s]   \n",
       "1                  cf     [3h, 2h]       [Ad, Qs]  [5h, Js, Kd, 5c, 8s]   \n",
       "2                 ccf     [Ad, Qs]       [3h, 2h]  [5h, Js, Kd, 5c, 8s]   \n",
       "3                cccf     [3h, 2h]       [Ad, Qs]  [5h, Js, Kd, 5c, 8s]   \n",
       "4               ccccf     [Ad, Qs]       [3h, 2h]  [5h, Js, Kd, 5c, 8s]   \n",
       "...               ...          ...            ...                   ...   \n",
       "156095  bbcbbcbbccbbc     [6c, 8d]       [Jh, 5d]  [2d, Qd, 8h, 4s, 4h]   \n",
       "156096    bbcbbcbbcbf     [6c, 8d]       [Jh, 5d]  [2d, Qd, 8h, 4s, 4h]   \n",
       "156097    bbcbbcbbcbc     [6c, 8d]       [Jh, 5d]  [2d, Qd, 8h, 4s, 4h]   \n",
       "156098   bbcbbcbbcbbf     [Jh, 5d]       [6c, 8d]  [2d, Qd, 8h, 4s, 4h]   \n",
       "156099   bbcbbcbbcbbc     [Jh, 5d]       [6c, 8d]  [2d, Qd, 8h, 4s, 4h]   \n",
       "\n",
       "           pot_size  win  \n",
       "0        300.000000 -1.0  \n",
       "1        400.000000  1.0  \n",
       "2        400.000000 -1.0  \n",
       "3        400.000000  1.0  \n",
       "4        400.000000 -1.0  \n",
       "...             ...  ...  \n",
       "156095  7315.957933 -1.0  \n",
       "156096  4389.574760 -1.0  \n",
       "156097  5486.968450 -1.0  \n",
       "156098  5852.766347  1.0  \n",
       "156099  7315.957933 -0.0  \n",
       "\n",
       "[156100 rows x 6 columns]"
      ]
     },
     "execution_count": 45,
     "metadata": {},
     "output_type": "execute_result"
    }
   ],
   "source": [
    "df"
   ]
  },
  {
   "cell_type": "code",
   "execution_count": 39,
   "id": "4b613d00",
   "metadata": {},
   "outputs": [
    {
     "data": {
      "text/plain": [
       "156100"
      ]
     },
     "execution_count": 39,
     "metadata": {},
     "output_type": "execute_result"
    }
   ],
   "source": [
    "len(s)"
   ]
  },
  {
   "cell_type": "code",
   "execution_count": 30,
   "id": "b0602836",
   "metadata": {},
   "outputs": [
    {
     "data": {
      "text/plain": [
       "{'history': 'ccccccbbf',\n",
       " 'player_cards': ['Qh', '5c'],\n",
       " 'opponent_cards': ['9h', '4h'],\n",
       " 'community_cards': ['2s', 'Ac', 'Ts', '4s', '3h'],\n",
       " 'pot_size': 711.111111111111,\n",
       " 'win': 1}"
      ]
     },
     "execution_count": 30,
     "metadata": {},
     "output_type": "execute_result"
    }
   ],
   "source": [
    "i += 1\n",
    "s[i]"
   ]
  },
  {
   "cell_type": "code",
   "execution_count": 16,
   "id": "5768706e",
   "metadata": {},
   "outputs": [],
   "source": [
    "i = 1"
   ]
  },
  {
   "cell_type": "code",
   "execution_count": 33,
   "id": "4bbcc63a",
   "metadata": {},
   "outputs": [],
   "source": [
    "nodes = joblib.load('../HoldemNodeMap.joblib')"
   ]
  },
  {
   "cell_type": "code",
   "execution_count": 34,
   "id": "1de60b9f",
   "metadata": {},
   "outputs": [
    {
     "ename": "KeyError",
     "evalue": "'Ks8d'",
     "output_type": "error",
     "traceback": [
      "\u001b[0;31m---------------------------------------------------------------------------\u001b[0m",
      "\u001b[0;31mKeyError\u001b[0m                                  Traceback (most recent call last)",
      "\u001b[0;32m/var/folders/kd/kpwj_zw52bjbbtxgq2psc1080000gn/T/ipykernel_27685/2751396676.py\u001b[0m in \u001b[0;36m<module>\u001b[0;34m\u001b[0m\n\u001b[0;32m----> 1\u001b[0;31m \u001b[0mnodes\u001b[0m\u001b[0;34m[\u001b[0m\u001b[0;34m'Ks8d'\u001b[0m\u001b[0;34m]\u001b[0m\u001b[0;34m.\u001b[0m\u001b[0mstrategy\u001b[0m\u001b[0;34m\u001b[0m\u001b[0;34m\u001b[0m\u001b[0m\n\u001b[0m",
      "\u001b[0;31mKeyError\u001b[0m: 'Ks8d'"
     ]
    }
   ],
   "source": [
    "nodes['Ks8d'].strategy"
   ]
  },
  {
   "cell_type": "code",
   "execution_count": 35,
   "id": "ae9cd2e2",
   "metadata": {},
   "outputs": [
    {
     "data": {
      "text/plain": [
       "93593"
      ]
     },
     "execution_count": 35,
     "metadata": {},
     "output_type": "execute_result"
    }
   ],
   "source": [
    "len(nodes.keys())"
   ]
  },
  {
   "cell_type": "code",
   "execution_count": 32,
   "id": "b0872dc9",
   "metadata": {},
   "outputs": [
    {
     "data": {
      "text/plain": [
       "['Ks8d']"
      ]
     },
     "execution_count": 32,
     "metadata": {},
     "output_type": "execute_result"
    }
   ],
   "source": [
    "[node for node in nodes if len(node) == 4]"
   ]
  },
  {
   "cell_type": "code",
   "execution_count": null,
   "id": "19b59624",
   "metadata": {},
   "outputs": [],
   "source": []
  },
  {
   "cell_type": "code",
   "execution_count": null,
   "id": "c6f0933e",
   "metadata": {},
   "outputs": [],
   "source": []
  }
 ],
 "metadata": {
  "kernelspec": {
   "display_name": "base",
   "language": "python",
   "name": "python3"
  },
  "language_info": {
   "codemirror_mode": {
    "name": "ipython",
    "version": 3
   },
   "file_extension": ".py",
   "mimetype": "text/x-python",
   "name": "python",
   "nbconvert_exporter": "python",
   "pygments_lexer": "ipython3",
   "version": "3.9.7"
  }
 },
 "nbformat": 4,
 "nbformat_minor": 5
}
